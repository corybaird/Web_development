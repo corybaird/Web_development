{
 "cells": [
  {
   "cell_type": "markdown",
   "metadata": {},
   "source": [
    "# 1. CSS intro"
   ]
  },
  {
   "cell_type": "markdown",
   "metadata": {},
   "source": [
    "## 1.1 Show css in markdown"
   ]
  },
  {
   "cell_type": "markdown",
   "metadata": {},
   "source": [
    "```css\n",
    "/* Comments in css */\n",
    "\n",
    "/* Style for H1 */\n",
    "h1{\n",
    "    font-family: 'Courier New', Courier, monospace;\n",
    "    color: aqua;\n",
    "}\n",
    "\n",
    "/* Style for P*/\n",
    "p {\n",
    "    font-family: 'Times New Roman', Times, serif;\n",
    "  }\n",
    "\n",
    "/* .SOMELINK links to class vars*/\n",
    "/* .In this example: <p class=\"Link_specific_HTML_elements\"> */\n",
    "\n",
    ".Link_specific_HTML_elements{\n",
    "    font-size: larger; color: brown;\n",
    "}\n",
    "\n",
    "\n",
    "#Footer_id{\n",
    "    font-family: 'Courier New', Courier, monospace;\n",
    "    color: aqua;\n",
    "}\n",
    "\n",
    ".title {\n",
    "    color:pink;\n",
    "  }\n",
    "  \n",
    "\n",
    ".cursive {\n",
    "    font-family: cursive;\n",
    "  }\n",
    "  \n",
    ".capitalize {\n",
    "    text-transform: capitalize;\n",
    "}\n",
    "\n",
    "h5.destination{\n",
    "    font-family:Verdana, Geneva, Tahoma, sans-serif;\n",
    "}\n",
    "\n",
    ".Nested li{\n",
    "    color: seagreen;\n",
    "}\n",
    "\n",
    "```"
   ]
  },
  {
   "cell_type": "markdown",
   "metadata": {},
   "source": [
    "## 1.2 Write 1.1 into css file in local directory"
   ]
  },
  {
   "cell_type": "code",
   "execution_count": 7,
   "metadata": {},
   "outputs": [
    {
     "name": "stdout",
     "output_type": "stream",
     "text": [
      "Overwriting style.css\n"
     ]
    }
   ],
   "source": [
    "%%writefile style.css\n",
    "\n",
    "/* Comments in css */\n",
    "\n",
    "/* Style for H1 */\n",
    "h1{\n",
    "    font-family: 'Courier New', Courier, monospace;\n",
    "    color: aqua;\n",
    "}\n",
    "\n",
    "/* Style for P*/\n",
    "p {\n",
    "    font-family: 'Times New Roman', Times, serif;\n",
    "  }\n",
    "\n",
    "/* .SOMELINK: links to class variables*/\n",
    "/* .In this example: <p class=\"Link_specific_HTML_elements\"> */\n",
    "\n",
    ".Link_specific_HTML_elements{\n",
    "    font-size: larger; color: brown;\n",
    "}\n",
    "\n",
    "\n",
    "/* #SOMELINK: links to id variable*/\n",
    "\n",
    "#Footer_id{\n",
    "    font-family: 'Courier New', Courier, monospace;\n",
    "    color: aqua;\n",
    "}\n",
    "\n",
    "/* class variable link*/\n",
    "\n",
    ".title {\n",
    "    color:pink;\n",
    "  }\n",
    "  \n",
    "/* class variable link*/\n",
    "\n",
    ".cursive {\n",
    "    font-family: cursive;\n",
    "  }\n",
    "\n",
    "/* class variable link*/\n",
    ".capitalize {\n",
    "    text-transform: capitalize;\n",
    "}\n",
    "/* class variable link*/\n",
    "h5.destination{\n",
    "    font-family:Verdana, Geneva, Tahoma, sans-serif;\n",
    "}\n",
    "\n",
    "/* class variable link*/\n",
    ".Nested li{\n",
    "    color: seagreen;\n",
    "}\n"
   ]
  },
  {
   "cell_type": "markdown",
   "metadata": {},
   "source": [
    "## 1.3 HTML and CSS\n",
    "- In order to use css you need to use the link tag\n",
    "    - `<link rel=\"stylesheet\" href=\"./style.css\", type=\"text/css\">`\n",
    "        - CSS path referenced in href=\"./CSSFILENAME\""
   ]
  },
  {
   "cell_type": "code",
   "execution_count": 9,
   "metadata": {},
   "outputs": [
    {
     "data": {
      "text/html": [
       "<!DOCTYPE html>\n",
       "<html>\n",
       "    <head>\n",
       "        <title>\n",
       "            Example: Inline styles\n",
       "        </title>\n",
       "        <link rel=\"stylesheet\" href=\"./style.css\", type=\"text/css\">\n",
       "        <body>\n",
       "            <h1>\n",
       "                Inline examples\n",
       "            </h1>\n",
       "                <p>\n",
       "                This is how you change the color, font, and size inline\n",
       "                </p>\n",
       "            <h2>\n",
       "                <p class=\"Link_specific_HTML_elements\">\n",
       "                    One class link\n",
       "                </p>\n",
       "            </h2>\n",
       "\n",
       "            <h3 class=\"title cursive capitalize\">\n",
       "               Multiple class link\n",
       "            </h3>\n",
       "\n",
       "            <h5>\n",
       "                Chaining\n",
       "            </h5>\n",
       "            <ul class=\"Nested\">\n",
       "                <li>One</li>\n",
       "                <li>Two</li>            \n",
       "            </ul>\n",
       "            <h6>\n",
       "                This is another link\n",
       "            </h6>\n",
       "        </body>\n",
       "        <footer id=\"Footer_id\">\n",
       "            ID link\n",
       "        </footer>\n",
       "    </head>\n",
       "</html>\n"
      ],
      "text/plain": [
       "<IPython.core.display.HTML object>"
      ]
     },
     "metadata": {},
     "output_type": "display_data"
    }
   ],
   "source": [
    "%%html\n",
    "<!DOCTYPE html>\n",
    "<html>\n",
    "    <head>\n",
    "        <title>\n",
    "            Example: Inline styles\n",
    "        </title>\n",
    "        <link rel=\"stylesheet\" href=\"./style.css\", type=\"text/css\">\n",
    "        <body>\n",
    "            <h1>\n",
    "                Inline examples\n",
    "            </h1>\n",
    "                <p>\n",
    "                This is how you change the color, font, and size inline\n",
    "                </p>\n",
    "            <h2>\n",
    "                <p class=\"Link_specific_HTML_elements\">\n",
    "                    One class link\n",
    "                </p>\n",
    "            </h2>\n",
    "\n",
    "            <h3 class=\"title cursive capitalize\">\n",
    "               Multiple class link\n",
    "            </h3>\n",
    "\n",
    "            <h5>\n",
    "                Chaining\n",
    "            </h5>\n",
    "            <ul class=\"Nested\">\n",
    "                <li>One</li>\n",
    "                <li>Two</li>            \n",
    "            </ul>\n",
    "            <h6>\n",
    "                This is another link\n",
    "            </h6>\n",
    "        </body>\n",
    "        <footer id=\"Footer_id\">\n",
    "            ID link\n",
    "        </footer>\n",
    "    </head>\n",
    "</html>"
   ]
  }
 ],
 "metadata": {
  "kernelspec": {
   "display_name": "Python 3",
   "language": "python",
   "name": "python3"
  },
  "language_info": {
   "codemirror_mode": {
    "name": "ipython",
    "version": 3
   },
   "file_extension": ".py",
   "mimetype": "text/x-python",
   "name": "python",
   "nbconvert_exporter": "python",
   "pygments_lexer": "ipython3",
   "version": "3.7.6"
  }
 },
 "nbformat": 4,
 "nbformat_minor": 4
}
