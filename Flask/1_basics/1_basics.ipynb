{
 "cells": [
  {
   "cell_type": "markdown",
   "metadata": {},
   "source": [
    "# How to set up a flask project"
   ]
  },
  {
   "cell_type": "markdown",
   "metadata": {},
   "source": [
    "# 1. Setting up virtual environment"
   ]
  },
  {
   "cell_type": "markdown",
   "metadata": {},
   "source": [
    "From the command line:\n",
    "\n",
    "1. mkdir app\n",
    "    - app is the name of folder\n",
    "2. cd app\n",
    "    - Changes directory to newly created folder\n",
    "3. python -m venv env\n",
    "    - Creates virtual environment\n",
    "4. source env/bin/activate\n",
    "    - Activates virtual environment\n",
    "5. pip install flask\n",
    "    - Virtual environment will not have installed libraries so you have to install flask"
   ]
  },
  {
   "cell_type": "code",
   "execution_count": 1,
   "metadata": {},
   "outputs": [],
   "source": [
    "#import os\n",
    "#! mkdir app\n",
    "#os.chdir('/app')\n",
    "#! \"source env/bin/activate\"\n",
    "#! pip install flask"
   ]
  },
  {
   "cell_type": "markdown",
   "metadata": {},
   "source": [
    "## 1.1 Write basic flask app"
   ]
  },
  {
   "cell_type": "code",
   "execution_count": 2,
   "metadata": {},
   "outputs": [
    {
     "name": "stdout",
     "output_type": "stream",
     "text": [
      "Overwriting app.py\n"
     ]
    }
   ],
   "source": [
    "%%writefile app.py\n",
    "\n",
    "from flask import Flask\n",
    "\n",
    "#Initialize app\n",
    "app = Flask(__name__)\n",
    "\n",
    "#app.route sets url path\n",
    "@app.route(\"/\") \n",
    "def index():\n",
    "    return \"Hello world\"\n",
    "\n",
    "#Adds another page to app\n",
    "#After launching app add \"/about\" to url in order to see page\n",
    "@app.route(\"/about\")\n",
    "def about():\n",
    "    return \"<h1 style='color:red'> About!! </h1>\"\n",
    "\n",
    "#Runs app\n",
    "if __name__ == \"__main__\":\n",
    "    app.run(debug=True)"
   ]
  },
  {
   "cell_type": "markdown",
   "metadata": {},
   "source": [
    "## 1.2 How to run the app\n",
    "### 1.2.1 First-method: Using Jupyter magic\n",
    "- python FILENAME.py\n"
   ]
  },
  {
   "cell_type": "code",
   "execution_count": 3,
   "metadata": {},
   "outputs": [],
   "source": [
    "! python app.py"
   ]
  },
  {
   "cell_type": "markdown",
   "metadata": {},
   "source": [
    "### 1.2.2 Second-method: Using command line in mac\n",
    "\n",
    "- export FLASK_APP=run.py\n",
    "- export FLASK_ENV=development\n",
    "    - flask run"
   ]
  }
 ],
 "metadata": {
  "kernelspec": {
   "display_name": "Python 3",
   "language": "python",
   "name": "python3"
  },
  "language_info": {
   "codemirror_mode": {
    "name": "ipython",
    "version": 3
   },
   "file_extension": ".py",
   "mimetype": "text/x-python",
   "name": "python",
   "nbconvert_exporter": "python",
   "pygments_lexer": "ipython3",
   "version": "3.7.6"
  }
 },
 "nbformat": 4,
 "nbformat_minor": 4
}
