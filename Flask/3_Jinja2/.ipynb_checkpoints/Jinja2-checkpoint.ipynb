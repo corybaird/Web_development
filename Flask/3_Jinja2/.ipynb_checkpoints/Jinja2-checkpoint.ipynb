{
 "cells": [
  {
   "cell_type": "markdown",
   "metadata": {},
   "source": [
    "# App introduction\n",
    "\n",
    "This introduction to applications in Flask is based on [jakerieger's](https://github.com/jakerieger/FlaskIntroduction) tutorial"
   ]
  },
  {
   "cell_type": "markdown",
   "metadata": {},
   "source": [
    "# 1. Introduction\n",
    "## 1.1 Set up virtual environment\n",
    "Using the command line\n",
    "\n",
    "```bash\n",
    "mkdir app\n",
    "cd app\n",
    "source env/bin/activate\n",
    "pip install flask\n",
    "```"
   ]
  },
  {
   "cell_type": "markdown",
   "metadata": {},
   "source": [
    "# 2. Introduction to jinja2\n"
   ]
  },
  {
   "cell_type": "markdown",
   "metadata": {},
   "source": [
    "## 2.1 CSS file and subdirectory creation"
   ]
  },
  {
   "cell_type": "markdown",
   "metadata": {},
   "source": [
    "### 2.1.1 Create folders"
   ]
  },
  {
   "cell_type": "code",
   "execution_count": 1,
   "metadata": {},
   "outputs": [],
   "source": [
    "import os\n",
    "! mkdir static\n",
    "os.chdir('static')\n",
    "!mkdir css\n",
    "os.chdir('css')"
   ]
  },
  {
   "cell_type": "markdown",
   "metadata": {},
   "source": [
    "### 2.1.2 Create basic css file"
   ]
  },
  {
   "cell_type": "code",
   "execution_count": 2,
   "metadata": {},
   "outputs": [
    {
     "name": "stdout",
     "output_type": "stream",
     "text": [
      "Writing main.css\n"
     ]
    }
   ],
   "source": [
    "%%writefile main.css\n",
    "\n",
    "body, html {\n",
    "    margin: 0;\n",
    "    font-family: sans-serif;\n",
    "}\n",
    "\n",
    ".content {\n",
    "    margin: 0 auto;\n",
    "    width: 400px;\n",
    "}\n",
    "\n",
    "table, td, th {\n",
    "    border: 1px solid #aaa;\n",
    "}\n",
    "\n",
    "table {\n",
    "    border-collapse: collapse;\n",
    "    width: 100%;\n",
    "}\n",
    "\n",
    "th {\n",
    "    height: 30px;\n",
    "}\n",
    "\n",
    "td {\n",
    "    text-align: center;\n",
    "    padding: 5px;\n",
    "}\n",
    "\n",
    ".form {\n",
    "    margin-top: 20px;\n",
    "}\n",
    "\n",
    "#content {\n",
    "    width: 70%;\n",
    "}"
   ]
  },
  {
   "cell_type": "markdown",
   "metadata": {},
   "source": [
    "## 2.2 Create base.html with jinja2 \n",
    "- base.html will be used as a template to create other html pages with jinja2"
   ]
  },
  {
   "cell_type": "markdown",
   "metadata": {},
   "source": [
    "### 2.1.1 Create templates folder from the root directory"
   ]
  },
  {
   "cell_type": "code",
   "execution_count": 3,
   "metadata": {},
   "outputs": [],
   "source": [
    "os.chdir(\"../..\") #Returns to root directory"
   ]
  },
  {
   "cell_type": "code",
   "execution_count": 4,
   "metadata": {},
   "outputs": [],
   "source": [
    "! mkdir templates\n",
    "os.chdir('templates')"
   ]
  },
  {
   "cell_type": "markdown",
   "metadata": {},
   "source": [
    "### 2.1.2 Create base.html\n",
    "\n",
    "Notice the difference between a normal HTML. The following lines of code are jinja2 syntax, the template legend that flask uses.\n",
    "\n",
    "\n",
    "- `{% block head %}{% endblock %}`\n",
    "    - Outlines where we insert our own code for each extended page\n",
    "- `{% block body %}{% endblock %}`\n",
    "    - Outlines where we insert our own code for each extended page\n",
    "\n",
    "- `<link rel=\"stylesheet\" href=\"{{ url_for('static', filename='css/main.css') }}\">`\n",
    "    - Links to css stylesheet so all extended pages have similar style"
   ]
  },
  {
   "cell_type": "markdown",
   "metadata": {},
   "source": [
    "```html\n",
    "<!DOCTYPE html>\n",
    "<html lang=\"en\">\n",
    "<head>\n",
    "    <meta charset=\"UTF-8\">\n",
    "    <meta name=\"viewport\" content=\"width=device-width, initial-scale=1.0\">\n",
    "    <meta http-equiv=\"X-UA-Compatible\" content=\"ie=edge\">\n",
    "    \n",
    "        <!-- We can't just use  <link rel=\"stylesheet\" href=\"static/css/main.css\"> \n",
    "                Instead we need to use jinja2 template\n",
    "                {{}}: function to print string-->   \n",
    "    <link rel=\"stylesheet\" href=\"{{ url_for('static', filename='css/main.css') }}\">\n",
    "    \n",
    "    <!--This outlines where we will insert code for each extended page-->\t\n",
    "    {% block head %}{% endblock %}\n",
    "</head>\n",
    "<body>\n",
    "   <!--This outlines where we will insert code for each extended page-->\t\n",
    "    {% block body %}{% endblock %}\n",
    "</body>\n",
    "</html>\n",
    "```"
   ]
  },
  {
   "cell_type": "code",
   "execution_count": 5,
   "metadata": {},
   "outputs": [
    {
     "name": "stdout",
     "output_type": "stream",
     "text": [
      "Writing base.html\n"
     ]
    }
   ],
   "source": [
    "%%writefile base.html\n",
    "<!DOCTYPE html>\n",
    "<html lang=\"en\">\n",
    "<head>\n",
    "    <meta charset=\"UTF-8\">\n",
    "    <meta name=\"viewport\" content=\"width=device-width, initial-scale=1.0\">\n",
    "    <meta http-equiv=\"X-UA-Compatible\" content=\"ie=edge\">\n",
    "    <link rel=\"stylesheet\" href=\"{{ url_for('static', filename='css/main.css') }}\">\n",
    "    \n",
    "    <!--This outlines where we will insert code for each extended page-->\n",
    "    {% block head %}{% endblock %}\n",
    "</head>\n",
    "<body>\n",
    "   <!--This outlines where we will insert code for each extended page-->\n",
    "    {% block body %}{% endblock %}\n",
    "</body>\n",
    "</html>"
   ]
  },
  {
   "cell_type": "markdown",
   "metadata": {},
   "source": [
    "## 2.3. Extends base.html by creating index.html\n",
    "\n",
    "- This feature is great because you can create new pages by extending the base.html through the following simple code using jinja2"
   ]
  },
  {
   "cell_type": "code",
   "execution_count": 7,
   "metadata": {},
   "outputs": [
    {
     "name": "stdout",
     "output_type": "stream",
     "text": [
      "Writing index.html\n"
     ]
    }
   ],
   "source": [
    "%%writefile index.html\n",
    "{% extends 'base.html' %}\n",
    "\n",
    "{% block head %}\n",
    "{% endblock %}\n",
    "\n",
    "{% block body %}\n",
    "<h1>Extended base template: index.html</h1>\n",
    "{% endblock %}"
   ]
  },
  {
   "cell_type": "markdown",
   "metadata": {},
   "source": [
    "## 2.4 Create app.py to run "
   ]
  },
  {
   "cell_type": "code",
   "execution_count": 8,
   "metadata": {},
   "outputs": [],
   "source": [
    "os.chdir(\"..\") #Returns to root directory"
   ]
  },
  {
   "cell_type": "code",
   "execution_count": 9,
   "metadata": {},
   "outputs": [
    {
     "name": "stdout",
     "output_type": "stream",
     "text": [
      "Writing app.py\n"
     ]
    }
   ],
   "source": [
    "%%writefile app.py\n",
    "\n",
    "from flask import Flask, render_template, url_for\n",
    "\n",
    "app = Flask(__name__)\n",
    "\n",
    "@app.route('/')\n",
    "def index():\n",
    "    #Renders the index.html file which we extended from our base template using jinja2\n",
    "    return render_template('index.html')\n",
    "\n",
    "if __name__ == \"__main__\":\n",
    "    app.run(debug=True)"
   ]
  },
  {
   "cell_type": "markdown",
   "metadata": {},
   "source": [
    "## 2.5 Run"
   ]
  },
  {
   "cell_type": "code",
   "execution_count": 10,
   "metadata": {},
   "outputs": [
    {
     "name": "stdout",
     "output_type": "stream",
     "text": [
      " * Serving Flask app \"app\" (lazy loading)\n",
      " * Environment: production\n",
      "\u001b[31m   WARNING: This is a development server. Do not use it in a production deployment.\u001b[0m\n",
      "\u001b[2m   Use a production WSGI server instead.\u001b[0m\n",
      " * Debug mode: on\n",
      " * Running on http://127.0.0.1:5000/ (Press CTRL+C to quit)\n",
      " * Restarting with fsevents reloader\n",
      " * Debugger is active!\n",
      " * Debugger PIN: 925-620-431\n",
      "127.0.0.1 - - [09/Jul/2020 10:22:15] \"\u001b[37mGET / HTTP/1.1\u001b[0m\" 200 -\n",
      "^C\n"
     ]
    }
   ],
   "source": [
    "!python app.py"
   ]
  }
 ],
 "metadata": {
  "kernelspec": {
   "display_name": "Python 3",
   "language": "python",
   "name": "python3"
  },
  "language_info": {
   "codemirror_mode": {
    "name": "ipython",
    "version": 3
   },
   "file_extension": ".py",
   "mimetype": "text/x-python",
   "name": "python",
   "nbconvert_exporter": "python",
   "pygments_lexer": "ipython3",
   "version": "3.7.6"
  }
 },
 "nbformat": 4,
 "nbformat_minor": 4
}
