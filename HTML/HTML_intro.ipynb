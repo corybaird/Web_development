{
 "cells": [
  {
   "cell_type": "markdown",
   "metadata": {},
   "source": [
    "# HTML basics\n",
    "\n",
    "- HTML should be written in an IDE such as Atom, VSCode, etc\n",
    "- This intro is meant for python users who often use Jupyter for ease of use"
   ]
  },
  {
   "cell_type": "markdown",
   "metadata": {},
   "source": [
    "# 1. Intro\n",
    "All HTML documents contain the following code\n",
    "- Comments are written in HTML using `<!--Lorem ipsum dolor-->`"
   ]
  },
  {
   "cell_type": "code",
   "execution_count": 20,
   "metadata": {},
   "outputs": [
    {
     "data": {
      "text/html": [
       "<!-- '%%html' is code for jupyter, ignore this text -->\n",
       "\n",
       "\n",
       "<!DOCTYPE html>\n",
       "\n",
       "<html>\n",
       "\n",
       "</html>\n"
      ],
      "text/plain": [
       "<IPython.core.display.HTML object>"
      ]
     },
     "metadata": {},
     "output_type": "display_data"
    }
   ],
   "source": [
    "%%html \n",
    "<!-- '%%html' is code for jupyter, ignore this text -->\n",
    "\n",
    "\n",
    "<!DOCTYPE html>\n",
    "\n",
    "<html>\n",
    "\n",
    "</html>"
   ]
  },
  {
   "cell_type": "markdown",
   "metadata": {},
   "source": [
    "---\n",
    "## 1.1 Body"
   ]
  },
  {
   "cell_type": "markdown",
   "metadata": {},
   "source": [
    "### 1.1.1 Heading\n",
    "- `<h1>Lorem ipsum</h1>`\n",
    "\n",
    "- Use the `<h1>` tag once per page\n",
    "- Other tags can be used any number of times, but they should always be in order."
   ]
  },
  {
   "cell_type": "code",
   "execution_count": 21,
   "metadata": {},
   "outputs": [
    {
     "data": {
      "text/html": [
       "\n",
       "<!DOCTYPE html>\n",
       "<html>\n",
       "  <head>\n",
       "  \t<title>Lorem ipsum dolor</title>\n",
       "   </head>\n",
       "  <body>\n",
       "    <h1>Lorem ipsum dolor</h1>\n",
       "    <h2>Lorem ipsum dolor</h1>\n",
       "    <h3>Lorem ipsum dolor</h1>\n",
       "    <h4>Lorem ipsum dolor</h1>\n",
       "    <h5>Lorem ipsum dolor</h1>\n",
       "    <h6>Lorem ipsum dolor</h1>\n",
       "  </body>\n",
       "</html>\n"
      ],
      "text/plain": [
       "<IPython.core.display.HTML object>"
      ]
     },
     "metadata": {},
     "output_type": "display_data"
    }
   ],
   "source": [
    "%%html \n",
    "\n",
    "<!DOCTYPE html>\n",
    "<html>\n",
    "  <head>\n",
    "  \t<title>Lorem ipsum dolor</title>\n",
    "   </head>\n",
    "  <body>\n",
    "    <h1>Lorem ipsum dolor</h1>\n",
    "    <h2>Lorem ipsum dolor</h1>\n",
    "    <h3>Lorem ipsum dolor</h1>\n",
    "    <h4>Lorem ipsum dolor</h1>\n",
    "    <h5>Lorem ipsum dolor</h1>\n",
    "    <h6>Lorem ipsum dolor</h1>\n",
    "  </body>\n",
    "</html>"
   ]
  },
  {
   "cell_type": "markdown",
   "metadata": {},
   "source": [
    "---\n",
    "### 1.1.2 img & break\n",
    "- Image\n",
    "    - `<img> src= \"URL or Path in local directory\" </img>`\n",
    "- Break\n",
    "    - `<br/> <br>`"
   ]
  },
  {
   "cell_type": "code",
   "execution_count": 41,
   "metadata": {},
   "outputs": [
    {
     "data": {
      "text/html": [
       "\n",
       "<!DOCTYPE html>\n",
       "<html>\n",
       "  <head>\n",
       "  \t<title>Lorem ipsum dolor</title>\n",
       "   </head>\n",
       "  <body>\n",
       "    <h1>Lorem ipsum dolor</h1>\n",
       "    <br/><br>\n",
       "    <img src=\"https://upload.wikimedia.org/wikipedia/commons/f/f8/Python_logo_and_wordmark.svg\" width=\"240\" height=\"180\"/>\n",
       "    <h2>Lorem ipsum dolor</h1>\n",
       "  </body>\n",
       "</html>\n"
      ],
      "text/plain": [
       "<IPython.core.display.HTML object>"
      ]
     },
     "metadata": {},
     "output_type": "display_data"
    }
   ],
   "source": [
    "%%html \n",
    "\n",
    "<!DOCTYPE html>\n",
    "<html>\n",
    "  <head>\n",
    "  \t<title>Lorem ipsum dolor</title>\n",
    "   </head>\n",
    "  <body>\n",
    "    <h1>Lorem ipsum dolor</h1>\n",
    "    <br/><br>\n",
    "    <img src=\"https://upload.wikimedia.org/wikipedia/commons/f/f8/Python_logo_and_wordmark.svg\" width=\"240\" height=\"180\"/>\n",
    "    <h2>Lorem ipsum dolor</h1>\n",
    "  </body>\n",
    "</html>"
   ]
  },
  {
   "cell_type": "markdown",
   "metadata": {},
   "source": [
    "---\n",
    "### 1.1.3 Paragraph and lists\n",
    "- Paragraph\n",
    "    - `<p> Lorem ipsum dolor </p>`\n",
    "- Ordered lists\n",
    "    - `<ol><li>1st</li><li>2nd</li></ol>`\n",
    "- Un-rdered lists\n",
    "    - `<ul><li>1st</li><li>2nd</li></ul>`"
   ]
  },
  {
   "cell_type": "code",
   "execution_count": 31,
   "metadata": {},
   "outputs": [
    {
     "data": {
      "text/html": [
       "\n",
       "<!DOCTYPE html>\n",
       "<html>\n",
       "  <head>\n",
       "  \t<title>Lorem ipsum dolor</title>\n",
       "   </head>\n",
       "  <body>\n",
       "    <h1>Lorem ipsum dolor</h1>\n",
       "    <p>Lorem ipsum dolor sit amet, consectetur adipiscing elit. \n",
       "    Nam hendrerit nisi sed sollicitudin pellentesque. \n",
       "    Nunc posuere purus rhoncus pulvinar aliquam. \n",
       "    Ut aliquet tristique nisl vitae volutpat. \n",
       "    Nulla aliquet porttitor venenatis. \n",
       "    Donec a dui et dui fringilla consectetur id nec massa. \n",
       "    Aliquam erat volutpat. Sed ut dui ut lacus dictum fermentum vel tincidunt neque. Sed sed lacinia lectus. \n",
       "    Duis sit amet sodales felis. Duis nunc eros, mattis at dui ac, convallis semper risus. \n",
       "    In adipiscing ultrices tellus, in suscipit massa vehicula eu.\n",
       "    <p>\n",
       "    <br/><br>\n",
       "    <ol>\n",
       "      <li>Lorem</li>\n",
       "      <li>Ipsum</li>\n",
       "    </ol>\n",
       "    \n",
       "    <ul>\n",
       "      <li>Lorem</li>\n",
       "      <li>Ipsum</li>\n",
       "    </ul>\n",
       "    \n",
       "  </body>\n",
       "</html>\n"
      ],
      "text/plain": [
       "<IPython.core.display.HTML object>"
      ]
     },
     "metadata": {},
     "output_type": "display_data"
    }
   ],
   "source": [
    "%%html \n",
    "\n",
    "<!DOCTYPE html>\n",
    "<html>\n",
    "  <head>\n",
    "  \t<title>Lorem ipsum dolor</title>\n",
    "   </head>\n",
    "  <body>\n",
    "    <h1>Lorem ipsum dolor</h1>\n",
    "    <p>Lorem ipsum dolor sit amet, consectetur adipiscing elit. \n",
    "    Nam hendrerit nisi sed sollicitudin pellentesque. \n",
    "    Nunc posuere purus rhoncus pulvinar aliquam. \n",
    "    Ut aliquet tristique nisl vitae volutpat. \n",
    "    Nulla aliquet porttitor venenatis. \n",
    "    Donec a dui et dui fringilla consectetur id nec massa. \n",
    "    Aliquam erat volutpat. Sed ut dui ut lacus dictum fermentum vel tincidunt neque. Sed sed lacinia lectus. \n",
    "    Duis sit amet sodales felis. Duis nunc eros, mattis at dui ac, convallis semper risus. \n",
    "    In adipiscing ultrices tellus, in suscipit massa vehicula eu.\n",
    "    <p>\n",
    "    <br/><br>\n",
    "    <ol>\n",
    "      <li>Lorem</li>\n",
    "      <li>Ipsum</li>\n",
    "    </ol>\n",
    "    \n",
    "    <ul>\n",
    "      <li>Lorem</li>\n",
    "      <li>Ipsum</li>\n",
    "    </ul>\n",
    "    \n",
    "  </body>\n",
    "</html>"
   ]
  },
  {
   "cell_type": "markdown",
   "metadata": {},
   "source": [
    "## 1.2 Links\n",
    "- `<a href='URL'> LINK NAME </a>`"
   ]
  },
  {
   "cell_type": "code",
   "execution_count": 33,
   "metadata": {},
   "outputs": [
    {
     "data": {
      "text/html": [
       "\n",
       "<!DOCTYPE html>\n",
       "<html>\n",
       "  <head>\n",
       "  \t<title>Lorem ipsum dolor</title>\n",
       "   </head>\n",
       "  <body>\n",
       "    <h1>Lorem ipsum dolor</h1>\n",
       "    <p>Lorem ipsum dolor sit amet, consectetur adipiscing elit. \n",
       "    Nam hendrerit nisi sed sollicitudin pellentesque. \n",
       "    Nunc posuere purus rhoncus pulvinar aliquam. \n",
       "    Ut aliquet tristique nisl vitae volutpat. \n",
       "    Nulla aliquet porttitor venenatis. \n",
       "    Donec a dui et dui fringilla consectetur id nec massa. \n",
       "    Aliquam erat volutpat. Sed ut dui ut lacus dictum fermentum vel tincidunt neque. Sed sed lacinia lectus. \n",
       "    Duis sit amet sodales felis. Duis nunc eros, mattis at dui ac, convallis semper risus. \n",
       "    In adipiscing ultrices tellus, in suscipit massa vehicula eu.\n",
       "    <p>\n",
       "    <a href=\"https://loremipsum.io/\">Link</a>\n",
       "\n",
       "    \n",
       "  </body>\n",
       "</html>\n"
      ],
      "text/plain": [
       "<IPython.core.display.HTML object>"
      ]
     },
     "metadata": {},
     "output_type": "display_data"
    }
   ],
   "source": [
    "%%html \n",
    "\n",
    "<!DOCTYPE html>\n",
    "<html>\n",
    "  <head>\n",
    "  \t<title>Lorem ipsum dolor</title>\n",
    "   </head>\n",
    "  <body>\n",
    "    <h1>Lorem ipsum dolor</h1>\n",
    "    <p>Lorem ipsum dolor sit amet, consectetur adipiscing elit. \n",
    "    Nam hendrerit nisi sed sollicitudin pellentesque. \n",
    "    Nunc posuere purus rhoncus pulvinar aliquam. \n",
    "    Ut aliquet tristique nisl vitae volutpat. \n",
    "    Nulla aliquet porttitor venenatis. \n",
    "    Donec a dui et dui fringilla consectetur id nec massa. \n",
    "    Aliquam erat volutpat. Sed ut dui ut lacus dictum fermentum vel tincidunt neque. Sed sed lacinia lectus. \n",
    "    Duis sit amet sodales felis. Duis nunc eros, mattis at dui ac, convallis semper risus. \n",
    "    In adipiscing ultrices tellus, in suscipit massa vehicula eu.\n",
    "    <p>\n",
    "    <a href=\"https://loremipsum.io/\">Link</a>\n",
    "\n",
    "    \n",
    "  </body>\n",
    "</html>"
   ]
  },
  {
   "cell_type": "markdown",
   "metadata": {},
   "source": [
    "## 1.3 Table\n",
    "- `<Table>`\n",
    "    - `<thead>`\n",
    "        - `<tr>`\n",
    "            - `<th>`\n",
    "    - `<tbody>`\n",
    "        - `<tr>`\n",
    "            - `<td>`"
   ]
  },
  {
   "cell_type": "code",
   "execution_count": 48,
   "metadata": {},
   "outputs": [
    {
     "data": {
      "text/html": [
       "<!DOCTYPE html>\n",
       "<html>\n",
       "<head>\n",
       "  <title>Table</title>\n",
       "</head>\n",
       "<body>\n",
       "  <div>Table</div>\n",
       "\n",
       "<!-- Start table--->\n",
       "  <table>\n",
       "    <thead>\n",
       "      <tr>\n",
       "        <th>Col 1</th>\n",
       "        <th>Col 2</th>\n",
       "        <th>Col 3</th>\n",
       "      </tr>\n",
       "    </thead>\n",
       "    <tbody>\n",
       "      <tr>\n",
       "        <td>row 1</td>\n",
       "        <td>row 1</td>\n",
       "        <td>row 1</td>\n",
       "      </tr>\n",
       "      <tr>\n",
       "        <td>row 2</td>\n",
       "        <td>row 2</td>\n",
       "        <td>row 2</td>\n",
       "    </tbody>\n",
       "    <tfoot>\n",
       "      <td>Total 1</td>\n",
       "        <td>Total 2</td>\n",
       "    </tfoot>\n",
       "  </table>\n",
       "</body>\n",
       "</html>\n"
      ],
      "text/plain": [
       "<IPython.core.display.HTML object>"
      ]
     },
     "metadata": {},
     "output_type": "display_data"
    }
   ],
   "source": [
    "%%html \n",
    "<!DOCTYPE html>\n",
    "<html>\n",
    "<head>\n",
    "  <title>Table</title>\n",
    "</head>\n",
    "<body>\n",
    "  <div>Table</div>\n",
    "\n",
    "<!-- Start table here!--->\n",
    "\n",
    "  <table>\n",
    "    <thead>\n",
    "      <tr>\n",
    "        <th>Col 1</th>\n",
    "        <th>Col 2</th>\n",
    "        <th>Col 3</th>\n",
    "      </tr>\n",
    "    </thead>\n",
    "    <tbody>\n",
    "      <tr>\n",
    "        <td>row 1</td>\n",
    "        <td>row 1</td>\n",
    "        <td>row 1</td>\n",
    "      </tr>\n",
    "      <tr>\n",
    "        <td>row 2</td>\n",
    "        <td>row 2</td>\n",
    "        <td>row 2</td>\n",
    "    </tbody>\n",
    "    <tfoot>\n",
    "      <td>Total 1</td>\n",
    "        <td>Total 2</td>\n",
    "    </tfoot>\n",
    "  </table>\n",
    "\n",
    "\n",
    "</body>\n",
    "</html>"
   ]
  },
  {
   "cell_type": "markdown",
   "metadata": {},
   "source": [
    "## 1.4 Forms"
   ]
  },
  {
   "cell_type": "code",
   "execution_count": 53,
   "metadata": {},
   "outputs": [
    {
     "data": {
      "text/html": [
       "<!DOCTYPE html>\n",
       "<html lang=\"en\" dir=\"ltr\">\n",
       "  <head>\n",
       "    <meta charset=\"utf-8\">\n",
       "    <title>Sign Up</title>\n",
       "  </head>\n",
       "  <body>\n",
       "    <section class=\"overlay\">\n",
       "\t\t\t<h1>Sign Up</h1>\n",
       "      <form action=\"submission.html\" method=\"GET\">\n",
       "        <label for=\"username\">User:</label>\n",
       "        <br>\n",
       "\t\t\t\t<input id=\"username\" name=\"username\" type=\"text\" required minlength=\"3\" maxlength=\"10\">\n",
       "        <br>\n",
       "        <label for=\"pass\">Password:</label>\n",
       "        <br>\n",
       "\t\t\t\t<input id=\"pass\" name=\"pass\" type=\"password\" required minlength=\"8\" maxlength=\"15\">\n",
       "        <br>\n",
       "        <input type=\"submit\" value=\"Submit\">\n",
       "      </form>\n",
       "    </section>\n",
       "  </body>\n",
       "</html>\n"
      ],
      "text/plain": [
       "<IPython.core.display.HTML object>"
      ]
     },
     "metadata": {},
     "output_type": "display_data"
    }
   ],
   "source": [
    "%%html\n",
    "<!DOCTYPE html>\n",
    "<html lang=\"en\" dir=\"ltr\">\n",
    "  <head>\n",
    "    <meta charset=\"utf-8\">\n",
    "    <title>Sign Up</title>\n",
    "  </head>\n",
    "  <body>\n",
    "    <section class=\"overlay\">\n",
    "\t\t\t<h1>Sign Up</h1>\n",
    "      <form action=\"submission.html\" method=\"GET\">\n",
    "        <label for=\"username\">User:</label>\n",
    "        <br>\n",
    "\t\t\t\t<input id=\"username\" name=\"username\" type=\"text\" required minlength=\"3\" maxlength=\"10\">\n",
    "        <br>\n",
    "        <label for=\"pass\">Password:</label>\n",
    "        <br>\n",
    "\t\t\t\t<input id=\"pass\" name=\"pass\" type=\"password\" required minlength=\"8\" maxlength=\"15\">\n",
    "        <br>\n",
    "        <input type=\"submit\" value=\"Submit\">\n",
    "      </form>\n",
    "    </section>\n",
    "  </body>\n",
    "</html>\n"
   ]
  },
  {
   "cell_type": "code",
   "execution_count": null,
   "metadata": {},
   "outputs": [],
   "source": []
  },
  {
   "cell_type": "markdown",
   "metadata": {},
   "source": [
    "# 2. Semantic text\n",
    "- `<Body>`\n",
    "    - `<main>`\n",
    "        - `<section>`\n",
    "        - `<article>`\n",
    "        - `<aside>`\n",
    "        - `<figure>`\n",
    "    - `<footer>`"
   ]
  },
  {
   "cell_type": "code",
   "execution_count": 42,
   "metadata": {},
   "outputs": [
    {
     "data": {
      "text/html": [
       "<!DOCTYPE html>\n",
       "<html>\n",
       "  <head>\n",
       "  </head>\n",
       "  <body>\n",
       "    <header>\n",
       "      <h1>Navigation</h1>\n",
       "      <nav>\n",
       "        <ul>\n",
       "          <li><a href=\"#home\">Home</a></li>\n",
       "          <li><a href=\"#other link\">Posts</a></li>\n",
       "          <li><a href=\"#other other link\">Contact</a></li>\n",
       "        </ul>\n",
       "      </nav>\n",
       "    </header>\n",
       "    \n",
       "    <main>\n",
       "      <section>\n",
       "        <article>\n",
       "          <h2>Lorem ipsum</h2>\n",
       "          <p>\n",
       "          Lorem ipsum dolor sit amet, consectetur adipiscing elit. Nam hendrerit nisi sed sollicitudin pellentesque.\n",
       "          </p>\n",
       "        </article>\n",
       "        <aside>\n",
       "          <p>Nunc posuere purus rhoncus pulvinar aliquam.\n",
       "          </p> \n",
       "        </aside>\n",
       "      </section> \n",
       "      <figure>\n",
       "        <img src=\"https://upload.wikimedia.org/wikipedia/commons/f/f8/Python_logo_and_wordmark.svg\"/>\n",
       "        <figcaption>Python picture caption</figcaption>\n",
       "      </figure>  \n",
       "    </main>\n",
       "    \n",
       "    <footer>\n",
       "      <p>In adipiscing ultrices tellus, in suscipit massa vehicula eu.</p>\n",
       "    </footer>\n",
       "              \n",
       "  </body>\n",
       "</html>\n"
      ],
      "text/plain": [
       "<IPython.core.display.HTML object>"
      ]
     },
     "metadata": {},
     "output_type": "display_data"
    }
   ],
   "source": [
    "%%html\n",
    "<!DOCTYPE html>\n",
    "<html>\n",
    "  <head>\n",
    "  </head>\n",
    "  <body>\n",
    "    <header>\n",
    "      <h1>Navigation</h1>\n",
    "      <nav>\n",
    "        <ul>\n",
    "          <li><a href=\"#home\">Home</a></li>\n",
    "          <li><a href=\"#other link\">Posts</a></li>\n",
    "          <li><a href=\"#other other link\">Contact</a></li>\n",
    "        </ul>\n",
    "      </nav>\n",
    "    </header>\n",
    "    \n",
    "    <main>\n",
    "      <section>\n",
    "        <article>\n",
    "          <h2>Lorem ipsum</h2>\n",
    "          <p>\n",
    "          Lorem ipsum dolor sit amet, consectetur adipiscing elit. Nam hendrerit nisi sed sollicitudin pellentesque.\n",
    "          </p>\n",
    "        </article>\n",
    "        <aside>\n",
    "          <p>Nunc posuere purus rhoncus pulvinar aliquam.\n",
    "          </p> \n",
    "        </aside>\n",
    "      </section> \n",
    "      <figure>\n",
    "        <img src=\"https://upload.wikimedia.org/wikipedia/commons/f/f8/Python_logo_and_wordmark.svg\"/>\n",
    "        <figcaption>Python picture caption</figcaption>\n",
    "      </figure>  \n",
    "    </main>\n",
    "    \n",
    "    <footer>\n",
    "      <p>In adipiscing ultrices tellus, in suscipit massa vehicula eu.</p>\n",
    "    </footer>\n",
    "              \n",
    "  </body>\n",
    "</html>"
   ]
  },
  {
   "cell_type": "markdown",
   "metadata": {},
   "source": [
    "# 3. CSS inline\n",
    "- `<h1 style=\"color: COLOR\"> Lorem ipsum </h1>`\n",
    "- `<p style= \"color: red; font-size: 20px;\"> Lorem ipsum <p>`\n",
    "\n"
   ]
  },
  {
   "cell_type": "code",
   "execution_count": 3,
   "metadata": {},
   "outputs": [
    {
     "data": {
      "text/html": [
       "<!DOCTYPE html>\n",
       "<html>\n",
       "    <head>\n",
       "        <title>\n",
       "            Example: Inline styles\n",
       "        </title>\n",
       "        <body>\n",
       "            <h1 style=\"color: blue\">\n",
       "                Inline example\n",
       "            </h1>\n",
       "                <p style=\"color: red; font-size: 10px;\"\">\n",
       "                    This is how you change the color, font, and size inline\n",
       "                </p>\n",
       "        </body>\n",
       "    </head>\n",
       "</html>\n"
      ],
      "text/plain": [
       "<IPython.core.display.HTML object>"
      ]
     },
     "metadata": {},
     "output_type": "display_data"
    }
   ],
   "source": [
    "%%html\n",
    "<!DOCTYPE html>\n",
    "<html>\n",
    "    <head>\n",
    "        <title>\n",
    "            Example: Inline styles\n",
    "        </title>\n",
    "        <body>\n",
    "            <h1 style=\"color: blue\">\n",
    "                Inline example\n",
    "            </h1>\n",
    "                <p style=\"color: red; font-size: 10px;\"\">\n",
    "                    This is how you change the color, font, and size inline\n",
    "                </p>\n",
    "        </body>\n",
    "    </head>\n",
    "</html>"
   ]
  },
  {
   "cell_type": "code",
   "execution_count": null,
   "metadata": {},
   "outputs": [],
   "source": []
  }
 ],
 "metadata": {
  "kernelspec": {
   "display_name": "Python 3",
   "language": "python",
   "name": "python3"
  },
  "language_info": {
   "codemirror_mode": {
    "name": "ipython",
    "version": 3
   },
   "file_extension": ".py",
   "mimetype": "text/x-python",
   "name": "python",
   "nbconvert_exporter": "python",
   "pygments_lexer": "ipython3",
   "version": "3.7.6"
  }
 },
 "nbformat": 4,
 "nbformat_minor": 4
}
