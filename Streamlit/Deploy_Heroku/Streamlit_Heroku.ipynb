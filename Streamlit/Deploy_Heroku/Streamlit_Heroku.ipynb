{
 "cells": [
  {
   "cell_type": "markdown",
   "metadata": {},
   "source": [
    "# Upload streamlit app to heroku"
   ]
  },
  {
   "cell_type": "markdown",
   "metadata": {},
   "source": [
    "# 1. Set up\n",
    "\n",
    "## 1.1 Setting up virtual environment\n",
    "Similar to Flask apps we want to set up a virtual environment"
   ]
  },
  {
   "cell_type": "markdown",
   "metadata": {},
   "source": [
    "From the command line:\n",
    "\n",
    "1. mkdir app\n",
    "    - app is the name of folder\n",
    "2. cd app\n",
    "    - Changes directory to newly created folder\n",
    "3. python -m venv env\n",
    "    - Creates virtual environment\n",
    "4. source env/bin/activate\n",
    "    - Activates virtual environment\n",
    "5. pip install flask\n",
    "    - Virtual environment will not have installed libraries so you have to install flask"
   ]
  },
  {
   "cell_type": "markdown",
   "metadata": {},
   "source": [
    "```bash\n",
    "mkdir app\n",
    "cd app\n",
    "python -m venv env\n",
    "source env/bin/activate\n",
    "pip install voila\n",
    "pip install jupyter numpy matplotlib\n",
    "```"
   ]
  },
  {
   "cell_type": "markdown",
   "metadata": {},
   "source": [
    "## 1.2 Create streamlit app and test locally"
   ]
  },
  {
   "cell_type": "markdown",
   "metadata": {},
   "source": [
    "### 1.2.1 Create interactive notebook"
   ]
  },
  {
   "cell_type": "code",
   "execution_count": 3,
   "metadata": {},
   "outputs": [
    {
     "name": "stdout",
     "output_type": "stream",
     "text": [
      "Writing app.py\n"
     ]
    }
   ],
   "source": [
    "%%writefile app.py\n",
    "import streamlit as st\n",
    "st.title(\"Hello World\")\n",
    "\n",
    "st.write(\"Pick an option\")\n",
    "\n",
    "keys = [\"Normal\",\"Uniform\"]\n",
    "\n",
    "dist_key = st.selectbox(\"Which Distribution do you want?\",keys)\n",
    "\n",
    "st.write(\"You have chosen {}\".format(dist_key))"
   ]
  },
  {
   "cell_type": "markdown",
   "metadata": {},
   "source": [
    "### 1.2.2 Test on your machine\n",
    "In the command line of the same directory\n",
    "```bash\n",
    "streamlit run app.py\n",
    "```"
   ]
  },
  {
   "cell_type": "code",
   "execution_count": 5,
   "metadata": {},
   "outputs": [],
   "source": [
    "#! streamlit run app.py"
   ]
  },
  {
   "cell_type": "markdown",
   "metadata": {},
   "source": [
    "# 1.3 Upload to heroku server\n",
    "\n",
    "1. First, create an Heroku account\n",
    "    - https://signup.heroku.com/\n",
    "    \n",
    "\n",
    "2. Install Heroku on your machine: \n",
    "    - https://devcenter.heroku.com/articles/getting-started-with-python#set-up"
   ]
  },
  {
   "cell_type": "markdown",
   "metadata": {},
   "source": [
    "### 1.3.1 Create files necessary for Heroku app\n",
    "- Do this in the main directory"
   ]
  },
  {
   "cell_type": "markdown",
   "metadata": {},
   "source": [
    "### 1.3.1.1 requirements.txt\n",
    "- This can either be manually entered or from the commmand line with the following code:\n",
    "\n",
    "\n",
    "```bash\n",
    "pip freeze > requirements.txt\n",
    "\n",
    "```"
   ]
  },
  {
   "cell_type": "code",
   "execution_count": 6,
   "metadata": {},
   "outputs": [
    {
     "name": "stdout",
     "output_type": "stream",
     "text": [
      "Writing requirements.txt\n"
     ]
    }
   ],
   "source": [
    "%%writefile requirements.txt\n",
    "streamlit==0.49.0"
   ]
  },
  {
   "cell_type": "markdown",
   "metadata": {},
   "source": [
    "### 1.3.1.2 setup.sh"
   ]
  },
  {
   "cell_type": "code",
   "execution_count": 8,
   "metadata": {},
   "outputs": [
    {
     "name": "stdout",
     "output_type": "stream",
     "text": [
      "Writing setup.sh\n"
     ]
    }
   ],
   "source": [
    "%%writefile setup.sh\n",
    "mkdir -p ~/.streamlit/\n",
    "\n",
    "echo \"\\\n",
    "[general]\\n\\\n",
    "email = \\\"your-email@domain.com\\\"\\n\\\n",
    "\" > ~/.streamlit/credentials.toml\n",
    "\n",
    "echo \"\\\n",
    "[server]\\n\\\n",
    "headless = true\\n\\\n",
    "enableCORS=false\\n\\\n",
    "port = $PORT\\n\\\n",
    "\" > ~/.streamlit/config.toml"
   ]
  },
  {
   "cell_type": "markdown",
   "metadata": {},
   "source": [
    "### 1.3.1.3 Procfile\n",
    "\n",
    "- IMPORTANT: the name of your notebook goes at the end of the procfile after:\n",
    "    - \"--enable_nbextensions=True\""
   ]
  },
  {
   "cell_type": "code",
   "execution_count": 9,
   "metadata": {},
   "outputs": [
    {
     "name": "stdout",
     "output_type": "stream",
     "text": [
      "Writing Procfile\n"
     ]
    }
   ],
   "source": [
    "%%writefile Procfile\n",
    "\n",
    "web: sh setup.sh && streamlit run app.py"
   ]
  },
  {
   "cell_type": "markdown",
   "metadata": {},
   "source": [
    "# Push to heroku from command line"
   ]
  },
  {
   "cell_type": "markdown",
   "metadata": {},
   "source": [
    "```bash\n",
    "heroku create\n",
    "git add .\n",
    "git commit -m \"First commit\"\n",
    "git push heroku master\n",
    "```"
   ]
  }
 ],
 "metadata": {
  "kernelspec": {
   "display_name": "Python 3",
   "language": "python",
   "name": "python3"
  },
  "language_info": {
   "codemirror_mode": {
    "name": "ipython",
    "version": 3
   },
   "file_extension": ".py",
   "mimetype": "text/x-python",
   "name": "python",
   "nbconvert_exporter": "python",
   "pygments_lexer": "ipython3",
   "version": "3.7.6"
  }
 },
 "nbformat": 4,
 "nbformat_minor": 4
}
