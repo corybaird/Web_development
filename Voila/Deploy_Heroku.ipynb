{
 "cells": [
  {
   "cell_type": "markdown",
   "metadata": {},
   "source": [
    "# Launch voila app"
   ]
  },
  {
   "cell_type": "markdown",
   "metadata": {},
   "source": [
    "# 1. Set up\n",
    "\n",
    "## 1.1 Setting up virtual environment\n",
    "Similar to Flask apps we want to set up a virtual environment"
   ]
  },
  {
   "cell_type": "markdown",
   "metadata": {},
   "source": [
    "From the command line:\n",
    "\n",
    "1. mkdir app\n",
    "    - app is the name of folder\n",
    "2. cd app\n",
    "    - Changes directory to newly created folder\n",
    "3. python -m venv env\n",
    "    - Creates virtual environment\n",
    "4. source env/bin/activate\n",
    "    - Activates virtual environment\n",
    "5. pip install flask\n",
    "    - Virtual environment will not have installed libraries so you have to install flask"
   ]
  },
  {
   "cell_type": "markdown",
   "metadata": {},
   "source": [
    "```bash\n",
    "mkdir app\n",
    "cd app\n",
    "python -m venv env\n",
    "source env/bin/activate\n",
    "pip install voila\n",
    "pip install jupyter numpy matplotlib\n",
    "```"
   ]
  },
  {
   "cell_type": "markdown",
   "metadata": {},
   "source": [
    "## 1.2 Create interactive plots and test locally"
   ]
  },
  {
   "cell_type": "markdown",
   "metadata": {},
   "source": [
    "### 1.2.1 Create interactive notebook"
   ]
  },
  {
   "cell_type": "code",
   "execution_count": 2,
   "metadata": {},
   "outputs": [],
   "source": [
    "import ipywidgets as widgets\n",
    "import numpy as np\n",
    "from ipywidgets import interactive\n",
    "import matplotlib.pyplot as plt"
   ]
  },
  {
   "cell_type": "code",
   "execution_count": 3,
   "metadata": {},
   "outputs": [
    {
     "data": {
      "application/vnd.jupyter.widget-view+json": {
       "model_id": "cadbc6cb2cd043afb7410d8e28980023",
       "version_major": 2,
       "version_minor": 0
      },
      "text/plain": [
       "interactive(children=(FloatSlider(value=-1.0, description='a', max=0.0, min=-1.0), FloatSlider(value=0.55, des…"
      ]
     },
     "metadata": {},
     "output_type": "display_data"
    }
   ],
   "source": [
    "def plot_func(a, f):\n",
    "    plt.figure(2)\n",
    "    x = np.linspace(0, 2*np.pi, num=1000)\n",
    "    y = a*np.sin(1/f*x)\n",
    "    plt.plot(x,y)\n",
    "    plt.ylim(-1.1, 1.1)\n",
    "    plt.title('a sin(f)')\n",
    "    plt.show()\n",
    "\n",
    "interactive_plot = interactive(plot_func, a=(-1,0,0.1), f=(0.1, 1))\n",
    "output = interactive_plot.children[-1]\n",
    "output.layout.height = '300px'\n",
    "interactive_plot"
   ]
  },
  {
   "cell_type": "markdown",
   "metadata": {},
   "source": [
    "### 1.2.2 Test on your machine\n",
    "In the command line of the same directory\n",
    "```bash\n",
    "voila app.ipynb\n",
    "```"
   ]
  },
  {
   "cell_type": "markdown",
   "metadata": {},
   "source": [
    "# 1.3 Upload to heroku server\n",
    "\n",
    "1. First, create an Heroku account\n",
    "    - https://signup.heroku.com/\n",
    "    \n",
    "\n",
    "2. Install Heroku on your machine: \n",
    "    - https://devcenter.heroku.com/articles/getting-started-with-python#set-up"
   ]
  },
  {
   "cell_type": "markdown",
   "metadata": {},
   "source": [
    "### 1.3.1 Create files necessary for Heroku app\n",
    "- Do this in the main directory"
   ]
  },
  {
   "cell_type": "markdown",
   "metadata": {},
   "source": [
    "### 1.3.1.1 requirements.txt\n",
    "- This can either be manually entered or from the commmand line with the following code:\n",
    "\n",
    "\n",
    "```bash\n",
    "pip freeze > requirements.txt\n",
    "\n",
    "```"
   ]
  },
  {
   "cell_type": "code",
   "execution_count": 4,
   "metadata": {},
   "outputs": [
    {
     "name": "stdout",
     "output_type": "stream",
     "text": [
      "Writing requirements.txt\n"
     ]
    }
   ],
   "source": [
    "%%writefile requirements.txt\n",
    "voila\n",
    "voila-material\n",
    "ipywidgets\n",
    "numpy\n",
    "matplotlib"
   ]
  },
  {
   "cell_type": "markdown",
   "metadata": {},
   "source": [
    "### 1.3.1.2 runtime.txt"
   ]
  },
  {
   "cell_type": "code",
   "execution_count": 5,
   "metadata": {},
   "outputs": [
    {
     "name": "stdout",
     "output_type": "stream",
     "text": [
      "Writing runtime.txt\n"
     ]
    }
   ],
   "source": [
    "%%writefile runtime.txt\n",
    "python-3.7.5"
   ]
  },
  {
   "cell_type": "markdown",
   "metadata": {},
   "source": [
    "### 1.3.1.3 Procfile\n",
    "\n",
    "- IMPORTANT: the name of your notebook goes at the end of the procfile after:\n",
    "    - \"--enable_nbextensions=True\""
   ]
  },
  {
   "cell_type": "code",
   "execution_count": 6,
   "metadata": {},
   "outputs": [
    {
     "name": "stdout",
     "output_type": "stream",
     "text": [
      "Writing Procfile\n"
     ]
    }
   ],
   "source": [
    "%%writefile Procfile\n",
    "\n",
    "web: voila --port=$PORT --no-browser --template=material --enable_nbextensions=True How_to.ipynb"
   ]
  },
  {
   "cell_type": "markdown",
   "metadata": {},
   "source": [
    "# Push to heroku from command line"
   ]
  },
  {
   "cell_type": "markdown",
   "metadata": {},
   "source": [
    "```bash\n",
    "heroku create\n",
    "git init\n",
    "git add .\n",
    "git commit -m \"First commit\"\n",
    "git push heroku master\n",
    "```"
   ]
  }
 ],
 "metadata": {
  "kernelspec": {
   "display_name": "Python 3",
   "language": "python",
   "name": "python3"
  },
  "language_info": {
   "codemirror_mode": {
    "name": "ipython",
    "version": 3
   },
   "file_extension": ".py",
   "mimetype": "text/x-python",
   "name": "python",
   "nbconvert_exporter": "python",
   "pygments_lexer": "ipython3",
   "version": "3.7.6"
  }
 },
 "nbformat": 4,
 "nbformat_minor": 4
}
